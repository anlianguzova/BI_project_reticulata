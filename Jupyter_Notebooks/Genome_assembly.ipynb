{
  "nbformat": 4,
  "nbformat_minor": 0,
  "metadata": {
    "colab": {
      "provenance": []
    },
    "kernelspec": {
      "name": "python3",
      "display_name": "Python 3"
    },
    "language_info": {
      "name": "python"
    }
  },
  "cells": [
    {
      "cell_type": "markdown",
      "source": [
        "# Parasite genome assembly\n",
        "In this notebook you can find the commands and scripts that were used for the genome assembly.\n",
        "Input and output directories are specified under `### input ###` in every script. The path to the executable file of the program is specified in the `### soft ###` section of the script. More datails are noted in comments in every script."
      ],
      "metadata": {
        "id": "Ntj7RyXpUKQ2"
      }
    },
    {
      "cell_type": "markdown",
      "source": [
        "#Library preparation\n",
        "## ID correction of reads\n",
        "BBMap/BBTools (v. 39.01) was used for ID correction of reads and filtering of rnaSPAdes results. \n",
        "Script for BBTools:"
      ],
      "metadata": {
        "id": "h2ZjEGgXAJZJ"
      }
    },
    {
      "cell_type": "code",
      "execution_count": null,
      "metadata": {
        "id": "Us5kFJHX8maN"
      },
      "outputs": [],
      "source": [
        "# !/bin/bash\n",
        "\n",
        "### INPUT ###\n",
        "\n",
        "INDIR=/home/LVP/raw_data/dna # Full path to the input directory\n",
        "OUTDIR=/home/LVP/raw_data/dna/bbtools # Full path to the output directory\n",
        "SPTAG=pret # Species tag\n",
        "OUTTAG=renamed_raw # Output files tag\n",
        "\n",
        "### SOFT ###\n",
        "\n",
        "BBTools_reformat=/home/al/Documents/Programs/BBMap_39.01/bbmap/reformat.sh\n",
        "\n",
        "### MAIN ###\n",
        "\n",
        "for dir in $(find $INDIR -mindepth 1 -type d); do\n",
        "    r1=\"$(find $dir -type f -name '*_R1.fq.gz')\"\n",
        "    r2=\"$(find $dir -type f -name '*_R2.fq.gz')\"\n",
        "    tag=$(basename $dir)\n",
        "    echo \"BBtools/reformat.sh starts to work with: \"\n",
        "    echo \"R1: $r1\"\n",
        "    echo \"R2: $r2\"\n",
        "    echo \"TAG: $tag\"\n",
        "    mkdir $OUTDIR/$tag\n",
        "    cd $OUTDIR/$tag\n",
        "    nohup $BBTools_reformat in=$r1 in2=$r2 out=${SPTAG}.${tag}.${OUTTAG}.R1.fq.gz out2=${SPTAG}.${tag}.${OUTTAG}.R2.fq.gz trimreaddescription=t addslash=t spaceslash=f\n",
        "    wait\n",
        "    cd ..\n",
        "done"
      ]
    },
    {
      "cell_type": "markdown",
      "source": [
        "##Quality control\n",
        "FastQC (v. 0.12.1) was utilized to spot potential problems in sequencing datasets.\n",
        "\n",
        "FastQC launching command that contains paths to input files and output directory:"
      ],
      "metadata": {
        "id": "HQmTbW6hCX5R"
      }
    },
    {
      "cell_type": "code",
      "source": [
        "fastqc -o genome_fq_out *.fq.gz"
      ],
      "metadata": {
        "id": "Vt-a5c_4Z0bB"
      },
      "execution_count": null,
      "outputs": []
    },
    {
      "cell_type": "markdown",
      "source": [
        "FastP utility (v. 0.23.2) performed the low-quality and adapter sequences removal. Scripts are available in the repository. The trimming parameters was the following: `--cut_window_size 4 --cut_mean_quality 20 --qualified_quality_phred 20 --length_required 25`.\n",
        "\n",
        "FastP utility launching script:"
      ],
      "metadata": {
        "id": "87ReFJNiEZOr"
      }
    },
    {
      "cell_type": "code",
      "source": [
        "#!/bin/bash\n",
        "\n",
        "### INPUT ###\n",
        "\n",
        "INDIR=/home/LVP/raw_data/dna/bbtools # Full path to the input directory\n",
        "OUTDIR=/home/LVP/raw_data/dna/fastp_out # Full path to the output directory\n",
        "\n",
        "### Soft ###\n",
        "\n",
        "fastp=/home/LVP/Soft/fastp\n",
        "\n",
        "### PARAMS ###\n",
        "\n",
        "WIN_SIZE=4\n",
        "QUAL_QUAL=20\n",
        "MEAN_QUAL=20\n",
        "MIN_LEN=25\n",
        "THREADS=5\n",
        "\n",
        "### MAIN ###\n",
        "\n",
        "cd $OUTDIR\n",
        "\n",
        "for dir in $(find $INDIR -mindepth 1 -type d); do\n",
        "    r1=\"$(find $dir -type f -name '*R1.fq.gz')\"\n",
        "    r2=\"$(find $dir -type f -name '*R2.fq.gz')\"\n",
        "    tag=$(basename $dir)\n",
        "    echo \"FastP starts to work with: \"\n",
        "    echo \"R1: $r1\"\n",
        "    echo \"R2: $r2\"\n",
        "    echo \"TAG: $tag\"\n",
        "    echo \"Window size: $WIN_SIZE\"\n",
        "    echo \"Mean quality: $MEAN_QUAL\"\n",
        "    echo \"Qualified quality: $QUAL_QUAL\"\n",
        "    echo \"Min length: $MIN_LEN\"\n",
        "    echo \"Threads: $THREADS\"\n",
        "    mkdir ${tag}_fastP_output\n",
        "    cd ${tag}_fastP_output\n",
        "    nohup $fastp --in1 $r1 --out1 ${tag}.fastp_tmm.R1.fastq.gz --in2 $r2 --out2 ${tag}.fastp_tmm.R2.fastq.gz --unpaired1 ${tag}.fastp_unpaired1.fastq.gz --unpaired2 ${tag}.fastp_unpaired2.fastq.gz$\n",
        "    wait\n",
        "    cd ..\n",
        "done\n",
        "\n",
        "echo \"##### Job is complete #####\"\n"
      ],
      "metadata": {
        "id": "JAMhpN58EBJ-"
      },
      "execution_count": null,
      "outputs": []
    },
    {
      "cell_type": "markdown",
      "source": [
        "##Decontamination via Kraken2\n",
        "Kraken2 (v. 2.1.2)  is a taxonomic classification system using exact k-mer matches to achieve high accuracy and fast classification speeds. In our project, we used it to build a database of possible contamination (such as bacteria and viruses).\n",
        "In case of genomic short paired-end read libraries we used standard database that includes sequences libraries from archaea, viruses, bacteria, plasmid, fungi, human and protozoa.\n",
        "\n",
        "Database  downloading:"
      ],
      "metadata": {
        "id": "z4Sr9KNEE5S9"
      }
    },
    {
      "cell_type": "code",
      "source": [
        "#!/bin/bash\n",
        "\n",
        "### INPUT ###\n",
        "\n",
        "OUTDIR=/home/LVP/Kraken2_DB_reticulata/ # Full path to the directory where the database will be stored\n",
        "DBTAG=Kraken2_plus_db_reticulata # Some name of the database to be created\n",
        "\n",
        "### SOFT ###\n",
        "\n",
        "KRAKEN2DIR=/home/LVP/Soft/kraken2 # Full path to the directory where the Kraken2 executable files are stored\n",
        "\n",
        "### Processing ###\n",
        "\n",
        "mkdir -p $OUTDIR\n",
        "cd $OUTDIR\n",
        "\n",
        "nohup $KRAKEN2DIR/kraken2-build --download-taxonomy --db $DBTAG --threads 5 --use-ftp\n",
        "wait\n",
        "nohup $KRAKEN2DIR/kraken2-build --download-library archaea --db $DBTAG --threads 5\n",
        "wait\n",
        "nohup $KRAKEN2DIR/kraken2-build --download-library viral --db $DBTAG --threads 5\n",
        "wait\n",
        "nohup $KRAKEN2DIR/kraken2-build --download-library bacteria --db $DBTAG --threads 5\n",
        "wait\n",
        "nohup $KRAKEN2DIR/kraken2-build --download-library plasmid --db $DBTAG --threads 5\n",
        "wait\n",
        "nohup $KRAKEN2DIR/kraken2-build --download-library human --db $DBTAG --threads 5\n",
        "wait\n",
        "nohup $KRAKEN2DIR/kraken2-build --download-library fungi --db $DBTAG --threads 5\n",
        "wait\n",
        "nohup $KRAKEN2DIR/kraken2-build --download-library protozoa --db $DBTAG --threads 5\n",
        "wait\n",
        "nohup $KRAKEN2DIR/kraken2-build --download-library UniVec_Core --db $DBTAG --threads 5\n",
        "wait\n",
        "\n",
        "echo \"##### Job is complete #####\""
      ],
      "metadata": {
        "id": "lu2MXBWaGL5m"
      },
      "execution_count": null,
      "outputs": []
    },
    {
      "cell_type": "markdown",
      "source": [
        "Build database:"
      ],
      "metadata": {
        "id": "5ln3GiAgHAfy"
      }
    },
    {
      "cell_type": "code",
      "source": [
        "#!/bin/bash\n",
        "\n",
        "### INPUT ###\n",
        "\n",
        "OUTDIR=/home/LVP/Kraken2_DB_reticulata/ # Full path to the directory where the database will be stored\n",
        "DBTAG=Kraken2_plus_db_TEST # Some name of the database to be created\n",
        "\n",
        "### SOFT ###\n",
        "\n",
        "KRAKEN2DIR=/home/LVP/Soft/kraken2 # Full path to the directory where the Kraken2 executable files are stored\n",
        "\n",
        "### Processing ###\n",
        "\n",
        "cd $OUTDIR\n",
        "\n",
        "nohup $KRAKEN2DIR/kraken2-build --build --db $DBTAG --threads 12\n",
        "wait\n",
        "\n",
        "echo \"##### Job is complete #####\""
      ],
      "metadata": {
        "id": "0sBGEThyHvTG"
      },
      "execution_count": null,
      "outputs": []
    },
    {
      "cell_type": "markdown",
      "source": [
        "Decontamination:"
      ],
      "metadata": {
        "id": "R8Mao-NiLCeA"
      }
    },
    {
      "cell_type": "code",
      "source": [
        "#!/bin/bash\n",
        "\n",
        "### Input ###\n",
        "\n",
        "FASTPDIR=/home/LVP/fastp/dna/ # Full path to the directory where the fastP results are stored\n",
        "OUTDIR=/home/LVP/kraken2_outputs/genome_kraken2_output/ # Full path to the directory where the classification results (Kraken2 output) will be stored\n",
        "DBDIR=/home/LVP/Kraken2_DB_reticulata # Full path to the directory where the database is stored\n",
        "DBTAG=Kraken2_plus_db_TEST # Some name of the database that will be used\n",
        "SUFFIX=#\n",
        "\n",
        "### SOFT ###\n",
        "\n",
        "KRAKEN2DIR=/home/LVP/Soft/kraken2 # Full path to the directory where the Kraken2 executable files are stored\n",
        "\n",
        "### Processing ###\n",
        "\n",
        "mkdir -p $OUTDIR\n",
        "cd $OUTDIR\n",
        "\n",
        "for dir in $(find $FASTPDIR -mindepth 1 -type d); do\n",
        "        r1=\"$(find $dir -type f -name '*fastp_tmm.R1.fastq.gz')\"\n",
        "        r2=\"$(find $dir -type f -name '*fastp_tmm.R2.fastq.gz')\"\n",
        "        tag=$(basename $dir)\n",
        "        echo \"Kraken2 starts to work with: \"\n",
        "        echo \"R1: $r1\"\n",
        "        echo \"R2: $r2\"\n",
        "        echo \"TAG: $tag\"\n",
        "\t      mkdir ${tag}_vs_${DBTAG}\n",
        "\t      cd ${tag}_vs_${DBTAG}\n",
        "        nohup $KRAKEN2DIR/kraken2 --db ${DBDIR}/${DBTAG}/ --threads 12 --paired --gzip-compressed --unclassified-out ${tag}.unclass.R${SUFFIX}.fastq --classified-out ${tag}.class.R${SUFFIX}.fastq --output ${tag}_vs_${DBTAG}.tab --report ${tag}_vs_${DBTAG}.report ${r1} ${r2}\n",
        "\t      cd ..\n",
        "        wait\n",
        "done\n",
        "\n",
        "echo \"##### Job is complete #####\""
      ],
      "metadata": {
        "id": "V1rdTFL5LBN3"
      },
      "execution_count": null,
      "outputs": []
    },
    {
      "cell_type": "markdown",
      "source": [
        "The results were visualized by Pavian (v. 1.0) using Kraken2 output files `.report` for every sample."
      ],
      "metadata": {
        "id": "dONfJzKiLWCG"
      }
    },
    {
      "cell_type": "markdown",
      "source": [
        "For the following steps all decontaminated short paired-end libraries were merged together. "
      ],
      "metadata": {
        "id": "qGMPeu0pkARS"
      }
    },
    {
      "cell_type": "markdown",
      "source": [
        "##Genome size assessment\n",
        "The calculations were performed for a k-mer length 25 bp (parameter `--mer-len=25`). `--size=265M` parameter was taken based on the total size of the [_Sacculina_ genome](https://www.ebi.ac.uk/ena/browser/view/GCA_916048095) (264,490,643 bp). \n",
        "\n",
        "The outputs were analyzed using [GenomeScope](http://qb.cshl.edu/genomescope/) (v. 1.0). \n",
        "\n",
        "Jellyfish was run using the script:"
      ],
      "metadata": {
        "id": "2W-yeyCBLHkr"
      }
    },
    {
      "cell_type": "code",
      "source": [
        "#!/bin/bash\n",
        "\n",
        "# INPUT: #\n",
        "R1=/home/LVP/genome_assembly/genome_all_libs_fastP_output.unclass_merged.R1.fastq # Full path to the merged decontaminated (after Kraken2) R1 fastq file\n",
        "R2=/home/LVP/genome_assembly/genome_all_libs_fastP_output.unclass_merged.R2.fastq # Full path to the merged decontaminated (after Kraken2) R2 fastq file\n",
        "OUTTAG=Pret.genome.unclass.k25_counts.jf # Some name of Jellyfish result file\n",
        "HISTOTAG=Pret.genome.unclass.k25_counts.histo\n",
        "OUTDIR=/home/LVP/genome_assembly/jellyfish_results # Full path to the directory where the Jellyfish output will be stored\n",
        "\n",
        "### SOFT ###\n",
        "\n",
        "JELLYFISH=/home/LVP/Soft/Trinity/jellyfish-2.3.0/bin/jellyfish # Full path to the Jellyfish\n",
        "\n",
        "### MAIN ###\n",
        "echo \"***** Jellyfish began to work with params: *****\"\n",
        "echo \"R1: $R1\"\n",
        "echo \"R2: $R2\"\n",
        "echo \"OUTTAG: $OUTTAG\"\n",
        "echo \"OUTDIR: $OUTDIR\"\n",
        "\n",
        "mkdir -p $OUTDIR\n",
        "cd $OUTDIR\n",
        "\n",
        "nohup $JELLYFISH count -m 25 -s 265M -t 10 -o $OUTTAG -C $R1 $R2\n",
        "wait\n",
        "\n",
        "echo \"***** Histo jellyfish began to work with param: *****\"\n",
        "echo \"HISTOTAG: $HISTOTAG\"\n",
        "\n",
        "nohup $JELLYFISH histo -t 10 $OUTTAG > $HISTOTAG\n",
        "wait\n",
        "\n",
        "echo \"##### Job is complete #####\""
      ],
      "metadata": {
        "id": "3ohN2y5TMXtC"
      },
      "execution_count": null,
      "outputs": []
    },
    {
      "cell_type": "markdown",
      "source": [
        "#Generation of *in silico* mate pairs libraries using *S. carcini* genome as reference \n",
        "*In silico* mate pair libraries were generated via [`Cross-species scaffolding`](https://github.com/thackl/cross-species-scaffolding) pipeline with `-l 141` prameter (the size of the smallest of the average length of the reads). The other parameters were left default.\n",
        "\n",
        "A special conda environment should be created for the `cross-species-scaffolding` pipeline using `.yaml` file. `Seq-scripts`, `Perl5lib-Fastq` and `Perl5lib-Fasta` should be downloaded from Github and installed.\n"
      ],
      "metadata": {
        "id": "59kOeQyTNqC_"
      }
    },
    {
      "cell_type": "code",
      "source": [
        " nohup cross-mates -o /home/LVP/Pret_In_silico_MP -t 20 -l 141 /home/LVP/Pret_In_silico_MP/Sacculina_genome.fasta \\\n",
        " /home/LVP/genome_assembly/genome_all_libs_fastP_output.unclass_merged.R1.fastq \\\n",
        " /home/LVP/genome_assembly/genome_all_libs_fastP_output.unclass_merged.R2.fastq"
      ],
      "metadata": {
        "id": "eXf_aZ_ZPcpL"
      },
      "execution_count": null,
      "outputs": []
    },
    {
      "cell_type": "markdown",
      "source": [
        "#Genome assembly"
      ],
      "metadata": {
        "id": "XtvXGqpUQCLo"
      }
    },
    {
      "cell_type": "markdown",
      "source": [
        "SPAdes (v. 3.15.4) was used for *Peltogaster reticulata* genome assembly. The paths to the merged decontaminated fastq files and previously obtained *in silico* mate pair libraries were specified, and the assembly was done in careful mode (parameter `--careful`). \n",
        "\n",
        "SPAdes was run using following command where all input libries are listed:"
      ],
      "metadata": {
        "id": "8UlwNUsNQgFp"
      }
    },
    {
      "cell_type": "code",
      "source": [
        "nohup /home/LVP/Soft/SPAdes-3.15.4-Linux/bin/spades.py \\\n",
        "-1 /home/LVP/genome_assembly/genome_all_libs_fastP_output.unclass_merged.R1.fastq \\\n",
        "-2 /home/LVP/genome_assembly/genome_all_libs_fastP_output.unclass_merged.R2.fastq \\\n",
        "--mp-1 1 /home/LVP/Pret_In_silico_MP2/cross-mates-2023-04-29/*mp-100000_1.fq \\\n",
        "--mp-2 1 /home/LVP/Pret_In_silico_MP2/cross-mates-2023-04-29/*mp-100000_2.fq \\\n",
        "--mp-1 2 /home/LVP/Pret_In_silico_MP2/cross-mates-2023-04-29/*mp-10000_1.fq \\\n",
        "--mp-2 2 /home/LVP/Pret_In_silico_MP2/cross-mates-2023-04-29/*mp-10000_2.fq \\\n",
        "--mp-1 3 /home/LVP/Pret_In_silico_MP2/cross-mates-2023-04-29/*mp-1000_1.fq \\\n",
        "--mp-2 3 /home/LVP/Pret_In_silico_MP2/cross-mates-2023-04-29/*mp-1000_2.fq \\\n",
        "--mp-1 4 /home/LVP/Pret_In_silico_MP2/cross-mates-2023-04-29/*mp-1500_1.fq \\\n",
        "--mp-2 4 /home/LVP/Pret_In_silico_MP2/cross-mates-2023-04-29/*mp-1500_2.fq \\\n",
        "--mp-1 5 /home/LVP/Pret_In_silico_MP2/cross-mates-2023-04-29/*mp-200000_1.fq \\\n",
        "--mp-2 5 /home/LVP/Pret_In_silico_MP2/cross-mates-2023-04-29/*mp-200000_2.fq \\\n",
        "--mp-1 6 /home/LVP/Pret_In_silico_MP2/cross-mates-2023-04-29/*mp-20000_1.fq \\\n",
        "--mp-2 6 /home/LVP/Pret_In_silico_MP2/cross-mates-2023-04-29/*mp-20000_2.fq \\\n",
        "--mp-1 7 /home/LVP/Pret_In_silico_MP2/cross-mates-2023-04-29/*mp-2000_1.fq \\\n",
        "--mp-2 7 /home/LVP/Pret_In_silico_MP2/cross-mates-2023-04-29/*mp-2000_2.fq \\\n",
        "--mp-1 8 /home/LVP/Pret_In_silico_MP2/cross-mates-2023-04-29/*mp-50000_1.fq \\\n",
        "--mp-2 8 /home/LVP/Pret_In_silico_MP2/cross-mates-2023-04-29/*mp-50000_2.fq \\\n",
        "--mp-1 9 /home/LVP/Pret_In_silico_MP2/cross-mates-2023-04-29/*mp-5000_1.fq \\\n",
        "--mp-2 9 /home/LVP/Pret_In_silico_MP2/cross-mates-2023-04-29/*mp-5000_2.fq \\\n",
        "--careful --threads 20 --memory 450 -o /home/LVP/SPAdes_genome/results"
      ],
      "metadata": {
        "id": "x1LWsw6bQavM"
      },
      "execution_count": null,
      "outputs": []
    },
    {
      "cell_type": "markdown",
      "source": [
        "##Quality control of the assembly"
      ],
      "metadata": {
        "id": "zaXR8ohlTBel"
      }
    },
    {
      "cell_type": "markdown",
      "source": [
        "Quality assessment of parasite genome assembly was obtained via `QUAST` and the following command was used"
      ],
      "metadata": {
        "id": "lHZZwHJzY9Tq"
      }
    },
    {
      "cell_type": "code",
      "source": [
        "quast -o genome_quality scaffolds.fasta"
      ],
      "metadata": {
        "id": "0YFwajYURl2m"
      },
      "execution_count": null,
      "outputs": []
    }
  ]
}