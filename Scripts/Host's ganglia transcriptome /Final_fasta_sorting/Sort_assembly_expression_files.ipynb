{
  "nbformat": 4,
  "nbformat_minor": 0,
  "metadata": {
    "colab": {
      "provenance": []
    },
    "kernelspec": {
      "name": "python3",
      "display_name": "Python 3"
    },
    "language_info": {
      "name": "python"
    }
  },
  "cells": [
    {
      "cell_type": "markdown",
      "source": [
        "#Scripts for sorting transcripts and proteins `.fasta` files and expression levels `.csv` files"
      ],
      "metadata": {
        "id": "Zp3SF1lXBTrT"
      }
    },
    {
      "cell_type": "code",
      "source": [
        "import pandas as pd\n",
        "from Bio import SeqIO\n",
        "import re"
      ],
      "metadata": {
        "id": "NLTu8DiUjz_X"
      },
      "execution_count": null,
      "outputs": []
    },
    {
      "cell_type": "markdown",
      "source": [
        "##Select transcripts with a significant level of expression\n",
        "Select from the expression-averaged table the identifiers of those sequences that have an expression level of at least 2 TPM in at least 1 sample."
      ],
      "metadata": {
        "id": "6iSh_0SCklcW"
      }
    },
    {
      "cell_type": "code",
      "source": [
        "data = pd.read_csv('mean_expression_data.csv', delimiter=',')\n",
        "data = data.query(\"healthy_fem>=2  or infected_fem>=2 or healthy_male>=2 or infected_male>=2\")\n",
        "data.to_csv('overexpressed.csv', index=False)"
      ],
      "metadata": {
        "id": "VmHyeDokbI4c"
      },
      "execution_count": null,
      "outputs": []
    },
    {
      "cell_type": "markdown",
      "source": [
        "##Select long protein products\n",
        "Select sequence identifiers that encode proteins at least 100 a.a. long"
      ],
      "metadata": {
        "id": "E6LW7LVmjmqQ"
      }
    },
    {
      "cell_type": "code",
      "source": [
        "df = pd.DataFrame(columns=['Name', 'Prot_name', 'Length'])\n",
        "for record in SeqIO.parse(\"cleaned_assembly_proteins.fasta\", \"fasta\"):\n",
        "    name = re.split('\\.p[\\d]+$', record.id)[0]\n",
        "    prot_num = record.id\n",
        "    seq_len = len(record.seq)\n",
        "    if seq_len >= 100:\n",
        "        new_row = {'Name': name, 'Prot_name': prot_name, 'Length': seq_len}\n",
        "        df = df._append(new_row, ignore_index=True)\n",
        "\n",
        "df.to_csv('fasta_prot_id.csv', index=False)"
      ],
      "metadata": {
        "id": "E7TOK9FKbVfR"
      },
      "execution_count": null,
      "outputs": []
    },
    {
      "cell_type": "markdown",
      "source": [
        "##Merge identifiers that encode long proteins products and transcripts with meaningful expression levels"
      ],
      "metadata": {
        "id": "PGnnMgGujtq9"
      }
    },
    {
      "cell_type": "code",
      "source": [
        "def get_prot_num(x):\n",
        "    y = re.search('\\.p([\\d]+)$', x)\n",
        "    if y is None:\n",
        "        return x\n",
        "    else:\n",
        "        return y.groups()[0]\n",
        "\n",
        "data1 = pd.read_csv('fasta_prot_id.csv', delimiter=',')\n",
        "data1['Prot_num'] = data1.apply(lambda row: get_prot_num(row['Prot_name']), axis=1)\n",
        "names_list = data1.Name.unique()\n",
        "print(data1.head())\n",
        "data1 = data1.sort_values(by=['Prot_num'], kind='stable')\n",
        "data1 = data1.sort_values(by=['Length'], kind='stable', ascending=False)\n",
        "data1 = data1.sort_values(by=['Name'], kind='stable')\n",
        "data1 = data1.reset_index(drop=True)\n",
        "print(len(data1.Name.unique()))\n",
        "data1 = data1[~data1.duplicated(subset=['Name'])]\n",
        "\n",
        "data2 = pd.read_csv('overexpressed.csv', delimiter=',')\n",
        "\n",
        "data = pd.merge(data1, data2)\n",
        "data.to_csv('merged.csv', index=False)"
      ],
      "metadata": {
        "id": "UayTbMlWblmd"
      },
      "execution_count": null,
      "outputs": []
    },
    {
      "cell_type": "markdown",
      "source": [
        "##Make new expression tables"
      ],
      "metadata": {
        "id": "EGcym2UXkarU"
      }
    },
    {
      "cell_type": "code",
      "source": [
        "data = pd.read_csv('merged.csv', delimiter=',')\n",
        "ids = data.Name\n",
        "new_names = pd.DataFrame({'New_name': ['Pmin_ref_seq_' + str(i+1) for i in range(len(ids))]})\n",
        "new_names_dict = pd.concat([pd.DataFrame({'Name': ids}), new_names], axis=1)\n",
        "print(new_names_dict.head(10))\n",
        "print(len(new_names_dict))\n",
        "table1 = pd.read_csv('expression_data.csv', delimiter=',')\n",
        "table2 = pd.read_csv('mean_expression_data.csv', delimiter=',')\n",
        "new_table1 = pd.merge(new_names_dict, table1, how='left')\n",
        "new_table1 = new_table1.drop('Name', axis=1)\n",
        "new_table1.rename(columns={'New_name': 'Name'}, inplace=True)\n",
        "new_table1.to_csv('new_expression_data.csv', index=False)\n",
        "new_table2 = pd.merge(new_names_dict, table2, how='left')\n",
        "new_table2 = new_table2.drop('Name', axis=1)\n",
        "new_table2.rename(columns={'New_name': 'Name'}, inplace=True)\n",
        "new_table2.to_csv('new_mean_expression_data.csv', index=False)"
      ],
      "metadata": {
        "id": "gSrYN3K2bpue"
      },
      "execution_count": null,
      "outputs": []
    },
    {
      "cell_type": "markdown",
      "source": [
        "##Make new `.fasta` protein file"
      ],
      "metadata": {
        "id": "OW1WZpuOkbX3"
      }
    },
    {
      "cell_type": "code",
      "source": [
        "data = pd.read_csv('merged.csv', delimiter=',')\n",
        "ids = data.Name\n",
        "prot_ids = data.Prot_name\n",
        "new_names = pd.DataFrame({'New_name': ['Pmin_ref_seq_' + str(i+1) for i in range(len(data))]})\n",
        "new_names_dict = pd.concat([pd.DataFrame({'Name': ids}), pd.DataFrame({'Prot_name': prot_ids}), new_names], axis=1)\n",
        "records = []\n",
        "for record in SeqIO.parse(\"cleaned_assembly_proteins.fasta\", \"fasta\"):\n",
        "    id = record.id\n",
        "    if id in list(new_names_dict['Prot_name']):\n",
        "        record.description = record.description.replace(record.id, '')[1::]\n",
        "        record.id = new_names_dict.loc[new_names_dict['Prot_name'] == id].iloc[0]['New_name']\n",
        "        records.append(record)\n",
        "SeqIO.write(records, \"new_assembly_proteins.fasta\", \"fasta\")"
      ],
      "metadata": {
        "id": "oa2j2IulbtKb"
      },
      "execution_count": null,
      "outputs": []
    },
    {
      "cell_type": "markdown",
      "source": [
        "##Make new `.fasta` transcripts file"
      ],
      "metadata": {
        "id": "HiCgMXpzkgbH"
      }
    },
    {
      "cell_type": "code",
      "source": [
        "data = pd.read_csv('merged.csv', delimiter=',')\n",
        "ids = data.Name\n",
        "new_names = pd.DataFrame({'New_name': ['Pmin_ref_seq_' + str(i+1) for i in range(len(data))]})\n",
        "new_names_dict = pd.concat([pd.DataFrame({'Name': ids}), new_names], axis=1)\n",
        "records = []\n",
        "for record in SeqIO.parse(\"cleaned_assembly.fasta\", \"fasta\"):\n",
        "    id = record.id\n",
        "    if id in list(new_names_dict['Name']):\n",
        "        record.description = record.description.replace(record.id, '')[1::]\n",
        "        record.id = new_names_dict.loc[new_names_dict['Name'] == id].iloc[0]['New_name']\n",
        "        records.append(record)\n",
        "SeqIO.write(records, \"new_assembly.fasta\", \"fasta\")"
      ],
      "metadata": {
        "id": "1mupFF4Lb4U6"
      },
      "execution_count": null,
      "outputs": []
    }
  ]
}